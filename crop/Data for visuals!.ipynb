{
 "cells": [
  {
   "cell_type": "code",
   "execution_count": 108,
   "metadata": {},
   "outputs": [],
   "source": [
    "import pandas as pd\n",
    "import seaborn as sn\n",
    "import matplotlib.pyplot as plt\n",
    "import plotly.express as px\n",
    "import plotly.graph_objects as go\n",
    "import numpy as np\n",
    "import json\n",
    "%matplotlib inline"
   ]
  },
  {
   "cell_type": "code",
   "execution_count": 3,
   "metadata": {},
   "outputs": [
    {
     "data": {
      "text/html": [
       "<div>\n",
       "<style scoped>\n",
       "    .dataframe tbody tr th:only-of-type {\n",
       "        vertical-align: middle;\n",
       "    }\n",
       "\n",
       "    .dataframe tbody tr th {\n",
       "        vertical-align: top;\n",
       "    }\n",
       "\n",
       "    .dataframe thead th {\n",
       "        text-align: right;\n",
       "    }\n",
       "</style>\n",
       "<table border=\"1\" class=\"dataframe\">\n",
       "  <thead>\n",
       "    <tr style=\"text-align: right;\">\n",
       "      <th></th>\n",
       "      <th>State_Name</th>\n",
       "      <th>District_Name</th>\n",
       "      <th>Crop_Year</th>\n",
       "      <th>Season</th>\n",
       "      <th>Crop</th>\n",
       "      <th>Area</th>\n",
       "      <th>Production</th>\n",
       "    </tr>\n",
       "  </thead>\n",
       "  <tbody>\n",
       "    <tr>\n",
       "      <th>0</th>\n",
       "      <td>Andaman and Nicobar Islands</td>\n",
       "      <td>NICOBARS</td>\n",
       "      <td>2000</td>\n",
       "      <td>Kharif</td>\n",
       "      <td>Arecanut</td>\n",
       "      <td>1254.0</td>\n",
       "      <td>2000.0</td>\n",
       "    </tr>\n",
       "    <tr>\n",
       "      <th>1</th>\n",
       "      <td>Andaman and Nicobar Islands</td>\n",
       "      <td>NICOBARS</td>\n",
       "      <td>2000</td>\n",
       "      <td>Kharif</td>\n",
       "      <td>Other Kharif pulses</td>\n",
       "      <td>2.0</td>\n",
       "      <td>1.0</td>\n",
       "    </tr>\n",
       "    <tr>\n",
       "      <th>2</th>\n",
       "      <td>Andaman and Nicobar Islands</td>\n",
       "      <td>NICOBARS</td>\n",
       "      <td>2000</td>\n",
       "      <td>Kharif</td>\n",
       "      <td>Rice</td>\n",
       "      <td>102.0</td>\n",
       "      <td>321.0</td>\n",
       "    </tr>\n",
       "    <tr>\n",
       "      <th>3</th>\n",
       "      <td>Andaman and Nicobar Islands</td>\n",
       "      <td>NICOBARS</td>\n",
       "      <td>2000</td>\n",
       "      <td>Whole Year</td>\n",
       "      <td>Banana</td>\n",
       "      <td>176.0</td>\n",
       "      <td>641.0</td>\n",
       "    </tr>\n",
       "    <tr>\n",
       "      <th>4</th>\n",
       "      <td>Andaman and Nicobar Islands</td>\n",
       "      <td>NICOBARS</td>\n",
       "      <td>2000</td>\n",
       "      <td>Whole Year</td>\n",
       "      <td>Cashewnut</td>\n",
       "      <td>720.0</td>\n",
       "      <td>165.0</td>\n",
       "    </tr>\n",
       "  </tbody>\n",
       "</table>\n",
       "</div>"
      ],
      "text/plain": [
       "                    State_Name District_Name  Crop_Year       Season  \\\n",
       "0  Andaman and Nicobar Islands      NICOBARS       2000  Kharif        \n",
       "1  Andaman and Nicobar Islands      NICOBARS       2000  Kharif        \n",
       "2  Andaman and Nicobar Islands      NICOBARS       2000  Kharif        \n",
       "3  Andaman and Nicobar Islands      NICOBARS       2000  Whole Year    \n",
       "4  Andaman and Nicobar Islands      NICOBARS       2000  Whole Year    \n",
       "\n",
       "                  Crop    Area  Production  \n",
       "0             Arecanut  1254.0      2000.0  \n",
       "1  Other Kharif pulses     2.0         1.0  \n",
       "2                 Rice   102.0       321.0  \n",
       "3               Banana   176.0       641.0  \n",
       "4            Cashewnut   720.0       165.0  "
      ]
     },
     "execution_count": 3,
     "metadata": {},
     "output_type": "execute_result"
    }
   ],
   "source": [
    "df = pd.read_csv('raw_districtwise_yield_data.csv')\n",
    "df.head()"
   ]
  },
  {
   "cell_type": "code",
   "execution_count": 5,
   "metadata": {},
   "outputs": [
    {
     "data": {
      "text/html": [
       "<div>\n",
       "<style scoped>\n",
       "    .dataframe tbody tr th:only-of-type {\n",
       "        vertical-align: middle;\n",
       "    }\n",
       "\n",
       "    .dataframe tbody tr th {\n",
       "        vertical-align: top;\n",
       "    }\n",
       "\n",
       "    .dataframe thead th {\n",
       "        text-align: right;\n",
       "    }\n",
       "</style>\n",
       "<table border=\"1\" class=\"dataframe\">\n",
       "  <thead>\n",
       "    <tr style=\"text-align: right;\">\n",
       "      <th></th>\n",
       "      <th>Unnamed: 0</th>\n",
       "      <th>Crop</th>\n",
       "      <th>N</th>\n",
       "      <th>P</th>\n",
       "      <th>K</th>\n",
       "      <th>pH</th>\n",
       "      <th>soil_moisture</th>\n",
       "    </tr>\n",
       "  </thead>\n",
       "  <tbody>\n",
       "    <tr>\n",
       "      <th>0</th>\n",
       "      <td>0</td>\n",
       "      <td>rice</td>\n",
       "      <td>80</td>\n",
       "      <td>40</td>\n",
       "      <td>40</td>\n",
       "      <td>5.5</td>\n",
       "      <td>30</td>\n",
       "    </tr>\n",
       "    <tr>\n",
       "      <th>1</th>\n",
       "      <td>3</td>\n",
       "      <td>maize</td>\n",
       "      <td>80</td>\n",
       "      <td>40</td>\n",
       "      <td>20</td>\n",
       "      <td>5.5</td>\n",
       "      <td>50</td>\n",
       "    </tr>\n",
       "    <tr>\n",
       "      <th>2</th>\n",
       "      <td>5</td>\n",
       "      <td>chickpea</td>\n",
       "      <td>40</td>\n",
       "      <td>60</td>\n",
       "      <td>80</td>\n",
       "      <td>5.5</td>\n",
       "      <td>60</td>\n",
       "    </tr>\n",
       "    <tr>\n",
       "      <th>3</th>\n",
       "      <td>12</td>\n",
       "      <td>kidneybeans</td>\n",
       "      <td>20</td>\n",
       "      <td>60</td>\n",
       "      <td>20</td>\n",
       "      <td>5.5</td>\n",
       "      <td>45</td>\n",
       "    </tr>\n",
       "    <tr>\n",
       "      <th>4</th>\n",
       "      <td>13</td>\n",
       "      <td>pigeonpeas</td>\n",
       "      <td>20</td>\n",
       "      <td>60</td>\n",
       "      <td>20</td>\n",
       "      <td>5.5</td>\n",
       "      <td>45</td>\n",
       "    </tr>\n",
       "  </tbody>\n",
       "</table>\n",
       "</div>"
      ],
      "text/plain": [
       "   Unnamed: 0         Crop   N   P   K   pH  soil_moisture\n",
       "0           0         rice  80  40  40  5.5             30\n",
       "1           3        maize  80  40  20  5.5             50\n",
       "2           5     chickpea  40  60  80  5.5             60\n",
       "3          12  kidneybeans  20  60  20  5.5             45\n",
       "4          13   pigeonpeas  20  60  20  5.5             45"
      ]
     },
     "execution_count": 5,
     "metadata": {},
     "output_type": "execute_result"
    }
   ],
   "source": [
    "df_fert = pd.read_csv('fertilizer.csv')\n",
    "df_fert.head()"
   ]
  },
  {
   "cell_type": "code",
   "execution_count": 6,
   "metadata": {},
   "outputs": [
    {
     "data": {
      "text/plain": [
       "array(['rice', 'maize', 'chickpea', 'kidneybeans', 'pigeonpeas',\n",
       "       'mothbeans', 'mungbean', 'blackgram', 'lentil', 'pomegranate',\n",
       "       'banana', 'mango', 'grapes', 'watermelon', 'muskmelon', 'apple',\n",
       "       'orange', 'papaya', 'coconut', 'cotton', 'jute', 'coffee'],\n",
       "      dtype=object)"
      ]
     },
     "execution_count": 6,
     "metadata": {},
     "output_type": "execute_result"
    }
   ],
   "source": [
    "crop_list = df_fert['Crop'].unique()\n",
    "crop_list"
   ]
  },
  {
   "cell_type": "code",
   "execution_count": 7,
   "metadata": {},
   "outputs": [],
   "source": [
    "def replace(s):\n",
    "    s = s.replace(' ','')\n",
    "    s = s.lower()\n",
    "    return s"
   ]
  },
  {
   "cell_type": "code",
   "execution_count": 8,
   "metadata": {
    "collapsed": true
   },
   "outputs": [
    {
     "data": {
      "text/plain": [
       "array(['arecanut', 'otherkharifpulses', 'rice', 'banana', 'cashewnut',\n",
       "       'coconut', 'dryginger', 'sugarcane', 'sweetpotato', 'tapioca',\n",
       "       'blackpepper', 'drychillies', 'otheroilseeds', 'turmeric', 'maize',\n",
       "       'moong(greengram)', 'urad', 'arhar/tur', 'groundnut', 'sunflower',\n",
       "       'bajra', 'castorseed', 'cotton(lint)', 'horse-gram', 'jowar',\n",
       "       'korra', 'ragi', 'tobacco', 'gram', 'wheat', 'masoor', 'sesamum',\n",
       "       'linseed', 'safflower', 'onion', 'othermisc.pulses', 'samai',\n",
       "       'smallmillets', 'coriander', 'potato', 'otherrabipulses',\n",
       "       'soyabean', 'beans&mutter(vegetable)', 'bhindi', 'brinjal',\n",
       "       'citrusfruit', 'cucumber', 'grapes', 'mango', 'orange',\n",
       "       'otherfibres', 'otherfreshfruits', 'othervegetables', 'papaya',\n",
       "       'pomefruit', 'tomato', 'rapeseed&mustard', 'mesta',\n",
       "       'cowpea(lobia)', 'lemon', 'pomegranet', 'sapota', 'cabbage',\n",
       "       'peas(vegetable)', 'nigerseed', 'bottlegourd', 'sannhamp',\n",
       "       'varagu', 'garlic', 'ginger', 'oilseedstotal', 'pulsestotal',\n",
       "       'jute', 'peas&beans(pulses)', 'blackgram', 'paddy', 'pineapple',\n",
       "       'barley', 'khesari', 'guarseed', 'moth', 'othercereals&millets',\n",
       "       'cond-spcsother', 'turnip', 'carrot', 'redish',\n",
       "       'arcanut(processed)', 'atcanut(raw)', 'cashewnutprocessed',\n",
       "       'cashewnutraw', 'cardamom', 'rubber', 'bittergourd', 'drumstick',\n",
       "       'jackfruit', 'snakguard', 'pumpkin', 'tea', 'coffee',\n",
       "       'cauliflower', 'othercitrusfruit', 'watermelon', 'totalfoodgrain',\n",
       "       'kapas', 'colocosia', 'lentil', 'bean', 'jobster', 'perilla',\n",
       "       'rajmashkholar', 'ricebean(nagadal)', 'ashgourd', 'beetroot',\n",
       "       'lab-lab', 'ribedguard', 'yam', 'apple', 'peach', 'pear', 'plums',\n",
       "       'litchi', 'ber', 'otherdryfruit', 'jute&mesta'], dtype=object)"
      ]
     },
     "execution_count": 8,
     "metadata": {},
     "output_type": "execute_result"
    }
   ],
   "source": [
    "df['Crop'] = df['Crop'].apply(lambda x:replace(x))\n",
    "df['Crop'].unique()"
   ]
  },
  {
   "cell_type": "code",
   "execution_count": 9,
   "metadata": {
    "collapsed": true
   },
   "outputs": [
    {
     "data": {
      "text/plain": [
       "array(['arecanut', 'otherkharifpulses', 'rice', 'banana', 'cashewnut',\n",
       "       'coconut', 'dryginger', 'sugarcane', 'sweetpotato', 'tapioca',\n",
       "       'blackpepper', 'drychillies', 'otheroilseeds', 'turmeric', 'maize',\n",
       "       'moong(greengram)', 'urad', 'arhar/tur', 'groundnut', 'sunflower',\n",
       "       'bajra', 'castorseed', 'cotton(lint)', 'horse-gram', 'jowar',\n",
       "       'korra', 'ragi', 'tobacco', 'gram', 'wheat', 'masoor', 'sesamum',\n",
       "       'linseed', 'safflower', 'onion', 'othermisc.pulses', 'samai',\n",
       "       'smallmillets', 'coriander', 'potato', 'otherrabipulses',\n",
       "       'soyabean', 'beans&mutter(vegetable)', 'bhindi', 'brinjal',\n",
       "       'citrusfruit', 'cucumber', 'grapes', 'mango', 'orange',\n",
       "       'otherfibres', 'otherfreshfruits', 'othervegetables', 'papaya',\n",
       "       'pomefruit', 'tomato', 'rapeseed&mustard', 'mesta',\n",
       "       'cowpea(lobia)', 'lemon', 'pomegranet', 'sapota', 'cabbage',\n",
       "       'peas(vegetable)', 'nigerseed', 'bottlegourd', 'sannhamp',\n",
       "       'varagu', 'garlic', 'ginger', 'oilseedstotal', 'pulsestotal',\n",
       "       'jute', 'peas&beans(pulses)', 'blackgram', 'paddy', 'pineapple',\n",
       "       'barley', 'khesari', 'guarseed', 'moth', 'othercereals&millets',\n",
       "       'cond-spcsother', 'turnip', 'carrot', 'redish',\n",
       "       'arcanut(processed)', 'atcanut(raw)', 'cashewnutprocessed',\n",
       "       'cashewnutraw', 'cardamom', 'rubber', 'bittergourd', 'drumstick',\n",
       "       'jackfruit', 'snakguard', 'pumpkin', 'tea', 'coffee',\n",
       "       'cauliflower', 'othercitrusfruit', 'watermelon', 'totalfoodgrain',\n",
       "       'kapas', 'colocosia', 'lentil', 'bean', 'jobster', 'perilla',\n",
       "       'rajmashkholar', 'ricebean(nagadal)', 'ashgourd', 'beetroot',\n",
       "       'lab-lab', 'ribedguard', 'yam', 'apple', 'peach', 'pear', 'plums',\n",
       "       'litchi', 'ber', 'otherdryfruit', 'jute&mesta'], dtype=object)"
      ]
     },
     "execution_count": 9,
     "metadata": {},
     "output_type": "execute_result"
    }
   ],
   "source": [
    "main_list = df['Crop'].unique()\n",
    "main_list"
   ]
  },
  {
   "cell_type": "code",
   "execution_count": 10,
   "metadata": {},
   "outputs": [],
   "source": [
    "use_list = []\n",
    "for i in main_list:\n",
    "    if i in crop_list:\n",
    "        use_list.append(i)"
   ]
  },
  {
   "cell_type": "code",
   "execution_count": 11,
   "metadata": {},
   "outputs": [
    {
     "data": {
      "text/plain": [
       "['rice',\n",
       " 'banana',\n",
       " 'coconut',\n",
       " 'maize',\n",
       " 'grapes',\n",
       " 'mango',\n",
       " 'orange',\n",
       " 'papaya',\n",
       " 'jute',\n",
       " 'blackgram',\n",
       " 'coffee',\n",
       " 'watermelon',\n",
       " 'lentil',\n",
       " 'apple']"
      ]
     },
     "execution_count": 11,
     "metadata": {},
     "output_type": "execute_result"
    }
   ],
   "source": [
    "use_list"
   ]
  },
  {
   "cell_type": "code",
   "execution_count": 16,
   "metadata": {},
   "outputs": [
    {
     "data": {
      "text/plain": [
       "'(df[Crop]==rice)|(df[Crop]==banana)|(df[Crop]==coconut)|(df[Crop]==maize)|(df[Crop]==grapes)|(df[Crop]==mango)|(df[Crop]==orange)|(df[Crop]==papaya)|(df[Crop]==jute)|(df[Crop]==blackgram)|(df[Crop]==coffee)|(df[Crop]==watermelon)|(df[Crop]==lentil)|(df[Crop]==apple)|'"
      ]
     },
     "execution_count": 16,
     "metadata": {},
     "output_type": "execute_result"
    }
   ],
   "source": [
    "req_string = ''\n",
    "for i in use_list:\n",
    "    req_string+='(df['+'Crop'+']=='+i+')'+'|'\n",
    "    \n",
    "req_string"
   ]
  },
  {
   "cell_type": "code",
   "execution_count": 26,
   "metadata": {},
   "outputs": [
    {
     "data": {
      "text/html": [
       "<div>\n",
       "<style scoped>\n",
       "    .dataframe tbody tr th:only-of-type {\n",
       "        vertical-align: middle;\n",
       "    }\n",
       "\n",
       "    .dataframe tbody tr th {\n",
       "        vertical-align: top;\n",
       "    }\n",
       "\n",
       "    .dataframe thead th {\n",
       "        text-align: right;\n",
       "    }\n",
       "</style>\n",
       "<table border=\"1\" class=\"dataframe\">\n",
       "  <thead>\n",
       "    <tr style=\"text-align: right;\">\n",
       "      <th></th>\n",
       "      <th>State_Name</th>\n",
       "      <th>District_Name</th>\n",
       "      <th>Crop_Year</th>\n",
       "      <th>Season</th>\n",
       "      <th>Crop</th>\n",
       "      <th>Area</th>\n",
       "      <th>Production</th>\n",
       "    </tr>\n",
       "  </thead>\n",
       "  <tbody>\n",
       "    <tr>\n",
       "      <th>760</th>\n",
       "      <td>Andhra Pradesh</td>\n",
       "      <td>ANANTAPUR</td>\n",
       "      <td>2011</td>\n",
       "      <td>Kharif</td>\n",
       "      <td>maize</td>\n",
       "      <td>25447.0</td>\n",
       "      <td>63465.0</td>\n",
       "    </tr>\n",
       "    <tr>\n",
       "      <th>767</th>\n",
       "      <td>Andhra Pradesh</td>\n",
       "      <td>ANANTAPUR</td>\n",
       "      <td>2011</td>\n",
       "      <td>Kharif</td>\n",
       "      <td>rice</td>\n",
       "      <td>37720.0</td>\n",
       "      <td>94531.0</td>\n",
       "    </tr>\n",
       "    <tr>\n",
       "      <th>779</th>\n",
       "      <td>Andhra Pradesh</td>\n",
       "      <td>ANANTAPUR</td>\n",
       "      <td>2011</td>\n",
       "      <td>Rabi</td>\n",
       "      <td>maize</td>\n",
       "      <td>6208.0</td>\n",
       "      <td>48168.0</td>\n",
       "    </tr>\n",
       "    <tr>\n",
       "      <th>783</th>\n",
       "      <td>Andhra Pradesh</td>\n",
       "      <td>ANANTAPUR</td>\n",
       "      <td>2011</td>\n",
       "      <td>Rabi</td>\n",
       "      <td>rice</td>\n",
       "      <td>10948.0</td>\n",
       "      <td>25542.0</td>\n",
       "    </tr>\n",
       "    <tr>\n",
       "      <th>789</th>\n",
       "      <td>Andhra Pradesh</td>\n",
       "      <td>ANANTAPUR</td>\n",
       "      <td>2011</td>\n",
       "      <td>Whole Year</td>\n",
       "      <td>banana</td>\n",
       "      <td>8000.0</td>\n",
       "      <td>505176.0</td>\n",
       "    </tr>\n",
       "  </tbody>\n",
       "</table>\n",
       "</div>"
      ],
      "text/plain": [
       "         State_Name District_Name  Crop_Year       Season    Crop     Area  \\\n",
       "760  Andhra Pradesh     ANANTAPUR       2011  Kharif        maize  25447.0   \n",
       "767  Andhra Pradesh     ANANTAPUR       2011  Kharif         rice  37720.0   \n",
       "779  Andhra Pradesh     ANANTAPUR       2011  Rabi          maize   6208.0   \n",
       "783  Andhra Pradesh     ANANTAPUR       2011  Rabi           rice  10948.0   \n",
       "789  Andhra Pradesh     ANANTAPUR       2011  Whole Year   banana   8000.0   \n",
       "\n",
       "     Production  \n",
       "760     63465.0  \n",
       "767     94531.0  \n",
       "779     48168.0  \n",
       "783     25542.0  \n",
       "789    505176.0  "
      ]
     },
     "execution_count": 26,
     "metadata": {},
     "output_type": "execute_result"
    }
   ],
   "source": [
    "required_df = df[((df['Crop']=='rice') & (df['Crop_Year']>=2011))|\n",
    "                 ((df['Crop']=='banana') & (df['Crop_Year']>=2011))|\n",
    "                 ((df['Crop']=='coconut') & (df['Crop_Year']>=2011))|\n",
    "                 ((df['Crop']=='maize') & (df['Crop_Year']>=2011))|\n",
    "                 ((df['Crop']=='grapes') & (df['Crop_Year']>=2011))|\n",
    "                 ((df['Crop']=='mango') & (df['Crop_Year']>=2011))|\n",
    "                 ((df['Crop']=='orange') & (df['Crop_Year']>=2011))|\n",
    "                 ((df['Crop']=='papaya') & (df['Crop_Year']>=2011))|\n",
    "                 ((df['Crop']=='jute') & (df['Crop_Year']>=2011))|\n",
    "                 ((df['Crop']=='blackgram') & (df['Crop_Year']>=2011))|\n",
    "                 ((df['Crop']=='coffee') & (df['Crop_Year']>=2011))|\n",
    "                 ((df['Crop']=='watermelon') & (df['Crop_Year']>=2011))|\n",
    "                 ((df['Crop']=='lentil') & (df['Crop_Year']>=2011))|\n",
    "                 ((df['Crop']=='apple') & (df['Crop_Year']>=2011))]\n",
    "\n",
    "required_df.head()"
   ]
  },
  {
   "cell_type": "code",
   "execution_count": 29,
   "metadata": {},
   "outputs": [
    {
     "name": "stdout",
     "output_type": "stream",
     "text": [
      "['rice', 'banana', 'coconut', 'maize', 'grapes', 'mango', 'orange', 'papaya', 'jute', 'blackgram', 'coffee', 'watermelon', 'lentil', 'apple']\n"
     ]
    }
   ],
   "source": [
    "print(['rice',\n",
    " 'banana',\n",
    " 'coconut',\n",
    " 'maize',\n",
    " 'grapes',\n",
    " 'mango',\n",
    " 'orange',\n",
    " 'papaya',\n",
    " 'jute',\n",
    " 'blackgram',\n",
    " 'coffee',\n",
    " 'watermelon',\n",
    " 'lentil',\n",
    " 'apple'])"
   ]
  },
  {
   "cell_type": "code",
   "execution_count": 30,
   "metadata": {},
   "outputs": [],
   "source": [
    "crop_list = ['rice','maize','jute']\n",
    "fruit_list = ['apple','mango','banana']"
   ]
  },
  {
   "cell_type": "code",
   "execution_count": null,
   "metadata": {},
   "outputs": [],
   "source": []
  },
  {
   "cell_type": "markdown",
   "metadata": {},
   "source": [
    "## Main code begins here"
   ]
  },
  {
   "cell_type": "code",
   "execution_count": null,
   "metadata": {},
   "outputs": [],
   "source": [
    "crop_list = ['rice','maize','jute']\n",
    "fruit_list = ['apple','mango','banana']"
   ]
  },
  {
   "cell_type": "code",
   "execution_count": 62,
   "metadata": {},
   "outputs": [],
   "source": [
    "rice_df = df[(df['Crop']=='rice')]\n",
    "maize_df = df[(df['Crop']=='maize')]\n",
    "jute_df = df[(df['Crop']=='jute')]\n",
    "apple_df = df[(df['Crop']=='apple')]\n",
    "mango_df = df[(df['Crop']=='mango')]\n",
    "banana_df = df[(df['Crop']=='banana')]\n",
    "papaya_df = df[df['Crop']=='papaya']"
   ]
  },
  {
   "cell_type": "code",
   "execution_count": 55,
   "metadata": {
    "collapsed": true
   },
   "outputs": [
    {
     "data": {
      "text/html": [
       "<div>\n",
       "<style scoped>\n",
       "    .dataframe tbody tr th:only-of-type {\n",
       "        vertical-align: middle;\n",
       "    }\n",
       "\n",
       "    .dataframe tbody tr th {\n",
       "        vertical-align: top;\n",
       "    }\n",
       "\n",
       "    .dataframe thead th {\n",
       "        text-align: right;\n",
       "    }\n",
       "</style>\n",
       "<table border=\"1\" class=\"dataframe\">\n",
       "  <thead>\n",
       "    <tr style=\"text-align: right;\">\n",
       "      <th></th>\n",
       "      <th>State_Name</th>\n",
       "      <th>District_Name</th>\n",
       "      <th>Crop_Year</th>\n",
       "      <th>Season</th>\n",
       "      <th>Crop</th>\n",
       "      <th>Area</th>\n",
       "      <th>Production</th>\n",
       "    </tr>\n",
       "  </thead>\n",
       "  <tbody>\n",
       "    <tr>\n",
       "      <th>2</th>\n",
       "      <td>Andaman and Nicobar Islands</td>\n",
       "      <td>NICOBARS</td>\n",
       "      <td>2000</td>\n",
       "      <td>Kharif</td>\n",
       "      <td>rice</td>\n",
       "      <td>102.00</td>\n",
       "      <td>321.00</td>\n",
       "    </tr>\n",
       "    <tr>\n",
       "      <th>12</th>\n",
       "      <td>Andaman and Nicobar Islands</td>\n",
       "      <td>NICOBARS</td>\n",
       "      <td>2001</td>\n",
       "      <td>Kharif</td>\n",
       "      <td>rice</td>\n",
       "      <td>83.00</td>\n",
       "      <td>300.00</td>\n",
       "    </tr>\n",
       "    <tr>\n",
       "      <th>18</th>\n",
       "      <td>Andaman and Nicobar Islands</td>\n",
       "      <td>NICOBARS</td>\n",
       "      <td>2002</td>\n",
       "      <td>Kharif</td>\n",
       "      <td>rice</td>\n",
       "      <td>189.20</td>\n",
       "      <td>510.84</td>\n",
       "    </tr>\n",
       "    <tr>\n",
       "      <th>27</th>\n",
       "      <td>Andaman and Nicobar Islands</td>\n",
       "      <td>NICOBARS</td>\n",
       "      <td>2003</td>\n",
       "      <td>Kharif</td>\n",
       "      <td>rice</td>\n",
       "      <td>52.00</td>\n",
       "      <td>90.17</td>\n",
       "    </tr>\n",
       "    <tr>\n",
       "      <th>36</th>\n",
       "      <td>Andaman and Nicobar Islands</td>\n",
       "      <td>NICOBARS</td>\n",
       "      <td>2004</td>\n",
       "      <td>Kharif</td>\n",
       "      <td>rice</td>\n",
       "      <td>52.94</td>\n",
       "      <td>72.57</td>\n",
       "    </tr>\n",
       "    <tr>\n",
       "      <th>...</th>\n",
       "      <td>...</td>\n",
       "      <td>...</td>\n",
       "      <td>...</td>\n",
       "      <td>...</td>\n",
       "      <td>...</td>\n",
       "      <td>...</td>\n",
       "      <td>...</td>\n",
       "    </tr>\n",
       "    <tr>\n",
       "      <th>246049</th>\n",
       "      <td>West Bengal</td>\n",
       "      <td>PURULIA</td>\n",
       "      <td>2013</td>\n",
       "      <td>Summer</td>\n",
       "      <td>rice</td>\n",
       "      <td>516.00</td>\n",
       "      <td>1274.00</td>\n",
       "    </tr>\n",
       "    <tr>\n",
       "      <th>246052</th>\n",
       "      <td>West Bengal</td>\n",
       "      <td>PURULIA</td>\n",
       "      <td>2013</td>\n",
       "      <td>Winter</td>\n",
       "      <td>rice</td>\n",
       "      <td>302274.00</td>\n",
       "      <td>730136.00</td>\n",
       "    </tr>\n",
       "    <tr>\n",
       "      <th>246058</th>\n",
       "      <td>West Bengal</td>\n",
       "      <td>PURULIA</td>\n",
       "      <td>2014</td>\n",
       "      <td>Autumn</td>\n",
       "      <td>rice</td>\n",
       "      <td>264.00</td>\n",
       "      <td>721.00</td>\n",
       "    </tr>\n",
       "    <tr>\n",
       "      <th>246086</th>\n",
       "      <td>West Bengal</td>\n",
       "      <td>PURULIA</td>\n",
       "      <td>2014</td>\n",
       "      <td>Summer</td>\n",
       "      <td>rice</td>\n",
       "      <td>306.00</td>\n",
       "      <td>801.00</td>\n",
       "    </tr>\n",
       "    <tr>\n",
       "      <th>246089</th>\n",
       "      <td>West Bengal</td>\n",
       "      <td>PURULIA</td>\n",
       "      <td>2014</td>\n",
       "      <td>Winter</td>\n",
       "      <td>rice</td>\n",
       "      <td>279151.00</td>\n",
       "      <td>597899.00</td>\n",
       "    </tr>\n",
       "  </tbody>\n",
       "</table>\n",
       "<p>15104 rows × 7 columns</p>\n",
       "</div>"
      ],
      "text/plain": [
       "                         State_Name District_Name  Crop_Year       Season  \\\n",
       "2       Andaman and Nicobar Islands      NICOBARS       2000  Kharif        \n",
       "12      Andaman and Nicobar Islands      NICOBARS       2001  Kharif        \n",
       "18      Andaman and Nicobar Islands      NICOBARS       2002  Kharif        \n",
       "27      Andaman and Nicobar Islands      NICOBARS       2003  Kharif        \n",
       "36      Andaman and Nicobar Islands      NICOBARS       2004  Kharif        \n",
       "...                             ...           ...        ...          ...   \n",
       "246049                  West Bengal       PURULIA       2013  Summer        \n",
       "246052                  West Bengal       PURULIA       2013  Winter        \n",
       "246058                  West Bengal       PURULIA       2014  Autumn        \n",
       "246086                  West Bengal       PURULIA       2014  Summer        \n",
       "246089                  West Bengal       PURULIA       2014  Winter        \n",
       "\n",
       "        Crop       Area  Production  \n",
       "2       rice     102.00      321.00  \n",
       "12      rice      83.00      300.00  \n",
       "18      rice     189.20      510.84  \n",
       "27      rice      52.00       90.17  \n",
       "36      rice      52.94       72.57  \n",
       "...      ...        ...         ...  \n",
       "246049  rice     516.00     1274.00  \n",
       "246052  rice  302274.00   730136.00  \n",
       "246058  rice     264.00      721.00  \n",
       "246086  rice     306.00      801.00  \n",
       "246089  rice  279151.00   597899.00  \n",
       "\n",
       "[15104 rows x 7 columns]"
      ]
     },
     "execution_count": 55,
     "metadata": {},
     "output_type": "execute_result"
    }
   ],
   "source": [
    "rice_df"
   ]
  },
  {
   "cell_type": "code",
   "execution_count": 63,
   "metadata": {},
   "outputs": [],
   "source": [
    "rice_df = rice_df.groupby(['State_Name']).mean().sort_values(by = ['Production'],ascending=False)\n",
    "maize_df = maize_df.groupby(['State_Name']).mean().sort_values(by = ['Production'],ascending=False)\n",
    "jute_df = jute_df.groupby(['State_Name']).mean().sort_values(by = ['Production'],ascending=False)\n",
    "mango_df = mango_df.groupby(['State_Name']).mean().sort_values(by = ['Production'],ascending=False)\n",
    "papaya_df = papaya_df.groupby(['State_Name']).mean().sort_values(by = ['Production'],ascending=False)\n",
    "banana_df = banana_df.groupby(['State_Name']).mean().sort_values(by = ['Production'],ascending=False)"
   ]
  },
  {
   "cell_type": "code",
   "execution_count": 64,
   "metadata": {
    "collapsed": true
   },
   "outputs": [
    {
     "data": {
      "text/html": [
       "<div>\n",
       "<style scoped>\n",
       "    .dataframe tbody tr th:only-of-type {\n",
       "        vertical-align: middle;\n",
       "    }\n",
       "\n",
       "    .dataframe tbody tr th {\n",
       "        vertical-align: top;\n",
       "    }\n",
       "\n",
       "    .dataframe thead th {\n",
       "        text-align: right;\n",
       "    }\n",
       "</style>\n",
       "<table border=\"1\" class=\"dataframe\">\n",
       "  <thead>\n",
       "    <tr style=\"text-align: right;\">\n",
       "      <th></th>\n",
       "      <th>Crop_Year</th>\n",
       "      <th>Area</th>\n",
       "      <th>Production</th>\n",
       "    </tr>\n",
       "    <tr>\n",
       "      <th>State_Name</th>\n",
       "      <th></th>\n",
       "      <th></th>\n",
       "      <th></th>\n",
       "    </tr>\n",
       "  </thead>\n",
       "  <tbody>\n",
       "    <tr>\n",
       "      <th>Andhra Pradesh</th>\n",
       "      <td>2009.476923</td>\n",
       "      <td>408.230769</td>\n",
       "      <td>41551.092308</td>\n",
       "    </tr>\n",
       "    <tr>\n",
       "      <th>Kerala</th>\n",
       "      <td>2005.860465</td>\n",
       "      <td>1214.906977</td>\n",
       "      <td>6225.000000</td>\n",
       "    </tr>\n",
       "    <tr>\n",
       "      <th>Assam</th>\n",
       "      <td>2009.512987</td>\n",
       "      <td>287.032468</td>\n",
       "      <td>5234.201299</td>\n",
       "    </tr>\n",
       "    <tr>\n",
       "      <th>Telangana</th>\n",
       "      <td>2002.461538</td>\n",
       "      <td>43.384615</td>\n",
       "      <td>4766.076923</td>\n",
       "    </tr>\n",
       "    <tr>\n",
       "      <th>Manipur</th>\n",
       "      <td>2002.500000</td>\n",
       "      <td>215.277778</td>\n",
       "      <td>1218.888889</td>\n",
       "    </tr>\n",
       "    <tr>\n",
       "      <th>Chhattisgarh</th>\n",
       "      <td>2002.533333</td>\n",
       "      <td>17.066667</td>\n",
       "      <td>679.133333</td>\n",
       "    </tr>\n",
       "    <tr>\n",
       "      <th>Meghalaya</th>\n",
       "      <td>2002.500000</td>\n",
       "      <td>84.785714</td>\n",
       "      <td>625.714286</td>\n",
       "    </tr>\n",
       "    <tr>\n",
       "      <th>Madhya Pradesh</th>\n",
       "      <td>2002.513158</td>\n",
       "      <td>19.473684</td>\n",
       "      <td>536.328947</td>\n",
       "    </tr>\n",
       "    <tr>\n",
       "      <th>Karnataka</th>\n",
       "      <td>2002.000000</td>\n",
       "      <td>74.478261</td>\n",
       "      <td>171.782609</td>\n",
       "    </tr>\n",
       "    <tr>\n",
       "      <th>Rajasthan</th>\n",
       "      <td>2002.466667</td>\n",
       "      <td>9.800000</td>\n",
       "      <td>13.333333</td>\n",
       "    </tr>\n",
       "    <tr>\n",
       "      <th>Tamil Nadu</th>\n",
       "      <td>2002.531250</td>\n",
       "      <td>21.750000</td>\n",
       "      <td>0.000000</td>\n",
       "    </tr>\n",
       "  </tbody>\n",
       "</table>\n",
       "</div>"
      ],
      "text/plain": [
       "                  Crop_Year         Area    Production\n",
       "State_Name                                            \n",
       "Andhra Pradesh  2009.476923   408.230769  41551.092308\n",
       "Kerala          2005.860465  1214.906977   6225.000000\n",
       "Assam           2009.512987   287.032468   5234.201299\n",
       "Telangana       2002.461538    43.384615   4766.076923\n",
       "Manipur         2002.500000   215.277778   1218.888889\n",
       "Chhattisgarh    2002.533333    17.066667    679.133333\n",
       "Meghalaya       2002.500000    84.785714    625.714286\n",
       "Madhya Pradesh  2002.513158    19.473684    536.328947\n",
       "Karnataka       2002.000000    74.478261    171.782609\n",
       "Rajasthan       2002.466667     9.800000     13.333333\n",
       "Tamil Nadu      2002.531250    21.750000      0.000000"
      ]
     },
     "execution_count": 64,
     "metadata": {},
     "output_type": "execute_result"
    }
   ],
   "source": [
    "papaya_df"
   ]
  },
  {
   "cell_type": "code",
   "execution_count": 65,
   "metadata": {},
   "outputs": [
    {
     "data": {
      "text/html": [
       "<div>\n",
       "<style scoped>\n",
       "    .dataframe tbody tr th:only-of-type {\n",
       "        vertical-align: middle;\n",
       "    }\n",
       "\n",
       "    .dataframe tbody tr th {\n",
       "        vertical-align: top;\n",
       "    }\n",
       "\n",
       "    .dataframe thead th {\n",
       "        text-align: right;\n",
       "    }\n",
       "</style>\n",
       "<table border=\"1\" class=\"dataframe\">\n",
       "  <thead>\n",
       "    <tr style=\"text-align: right;\">\n",
       "      <th></th>\n",
       "      <th>Crop_Year</th>\n",
       "      <th>Area</th>\n",
       "      <th>Production</th>\n",
       "    </tr>\n",
       "    <tr>\n",
       "      <th>State_Name</th>\n",
       "      <th></th>\n",
       "      <th></th>\n",
       "      <th></th>\n",
       "    </tr>\n",
       "  </thead>\n",
       "  <tbody>\n",
       "    <tr>\n",
       "      <th>Punjab</th>\n",
       "      <td>2005.991124</td>\n",
       "      <td>142304.733728</td>\n",
       "      <td>531662.721893</td>\n",
       "    </tr>\n",
       "    <tr>\n",
       "      <th>Andhra Pradesh</th>\n",
       "      <td>2005.729730</td>\n",
       "      <td>96774.035343</td>\n",
       "      <td>298840.862786</td>\n",
       "    </tr>\n",
       "    <tr>\n",
       "      <th>Chhattisgarh</th>\n",
       "      <td>2007.857143</td>\n",
       "      <td>198443.972789</td>\n",
       "      <td>279104.856164</td>\n",
       "    </tr>\n",
       "    <tr>\n",
       "      <th>West Bengal</th>\n",
       "      <td>2005.513932</td>\n",
       "      <td>105256.402477</td>\n",
       "      <td>266349.689370</td>\n",
       "    </tr>\n",
       "    <tr>\n",
       "      <th>Telangana</th>\n",
       "      <td>2004.964856</td>\n",
       "      <td>76173.517572</td>\n",
       "      <td>221072.447284</td>\n",
       "    </tr>\n",
       "  </tbody>\n",
       "</table>\n",
       "</div>"
      ],
      "text/plain": [
       "                  Crop_Year           Area     Production\n",
       "State_Name                                               \n",
       "Punjab          2005.991124  142304.733728  531662.721893\n",
       "Andhra Pradesh  2005.729730   96774.035343  298840.862786\n",
       "Chhattisgarh    2007.857143  198443.972789  279104.856164\n",
       "West Bengal     2005.513932  105256.402477  266349.689370\n",
       "Telangana       2004.964856   76173.517572  221072.447284"
      ]
     },
     "execution_count": 65,
     "metadata": {},
     "output_type": "execute_result"
    }
   ],
   "source": [
    "dumm = rice_df.head()\n",
    "dumm"
   ]
  },
  {
   "cell_type": "code",
   "execution_count": 66,
   "metadata": {},
   "outputs": [],
   "source": [
    "rice = rice_df.head()\n",
    "maize = maize_df.head()\n",
    "jute = jute_df.head()\n",
    "mango = mango_df.head()\n",
    "papaya = papaya_df.head()\n",
    "banana = banana_df.head()"
   ]
  },
  {
   "cell_type": "code",
   "execution_count": 89,
   "metadata": {},
   "outputs": [],
   "source": [
    "df_list = [rice,maize,jute,mango,papaya,banana]"
   ]
  },
  {
   "cell_type": "code",
   "execution_count": 77,
   "metadata": {
    "collapsed": true
   },
   "outputs": [
    {
     "name": "stderr",
     "output_type": "stream",
     "text": [
      "C:\\Users\\meet\\anaconda3\\envs\\tensorflow_ennv\\lib\\site-packages\\pandas\\core\\frame.py:4167: SettingWithCopyWarning:\n",
      "\n",
      "\n",
      "A value is trying to be set on a copy of a slice from a DataFrame\n",
      "\n",
      "See the caveats in the documentation: https://pandas.pydata.org/pandas-docs/stable/user_guide/indexing.html#returning-a-view-versus-a-copy\n",
      "\n"
     ]
    }
   ],
   "source": [
    "df_list = [rice,maize,jute,mango,papaya,banana]\n",
    "for i in df_list:\n",
    "    i.drop(['Crop_Year'],axis = 1,inplace = True)\n",
    "    \n"
   ]
  },
  {
   "cell_type": "code",
   "execution_count": 90,
   "metadata": {},
   "outputs": [],
   "source": [
    "def addcol(df):\n",
    "    name_list = []\n",
    "    for i in df.index:\n",
    "        name_list.append(i)\n",
    "        \n",
    "    return name_list"
   ]
  },
  {
   "cell_type": "code",
   "execution_count": 91,
   "metadata": {},
   "outputs": [],
   "source": [
    "final_list = []\n",
    "for i in df_list:\n",
    "    final_list.append(addcol(i))"
   ]
  },
  {
   "cell_type": "code",
   "execution_count": 92,
   "metadata": {},
   "outputs": [
    {
     "data": {
      "text/plain": [
       "[['Punjab', 'Andhra Pradesh', 'Chhattisgarh', 'West Bengal', 'Telangana '],\n",
       " ['Telangana ', 'Himachal Pradesh', 'Rajasthan', 'Andhra Pradesh', 'Punjab'],\n",
       " ['West Bengal', 'Bihar', 'Assam', 'Meghalaya', 'Odisha'],\n",
       " ['Andhra Pradesh', 'Kerala', 'Tamil Nadu', 'Telangana ', 'Karnataka'],\n",
       " ['Andhra Pradesh', 'Kerala', 'Assam', 'Telangana ', 'Manipur'],\n",
       " ['Gujarat', 'Tamil Nadu', 'Maharashtra', 'Andhra Pradesh', 'Madhya Pradesh']]"
      ]
     },
     "execution_count": 92,
     "metadata": {},
     "output_type": "execute_result"
    }
   ],
   "source": [
    "final_list"
   ]
  },
  {
   "cell_type": "code",
   "execution_count": 94,
   "metadata": {},
   "outputs": [],
   "source": [
    "def addcol(df,lists):\n",
    "    df['State'] = lists"
   ]
  },
  {
   "cell_type": "code",
   "execution_count": 96,
   "metadata": {
    "collapsed": true
   },
   "outputs": [
    {
     "name": "stderr",
     "output_type": "stream",
     "text": [
      "C:\\Users\\meet\\anaconda3\\envs\\tensorflow_ennv\\lib\\site-packages\\ipykernel_launcher.py:2: SettingWithCopyWarning:\n",
      "\n",
      "\n",
      "A value is trying to be set on a copy of a slice from a DataFrame.\n",
      "Try using .loc[row_indexer,col_indexer] = value instead\n",
      "\n",
      "See the caveats in the documentation: https://pandas.pydata.org/pandas-docs/stable/user_guide/indexing.html#returning-a-view-versus-a-copy\n",
      "\n"
     ]
    }
   ],
   "source": [
    "for i,j in zip(df_list,final_list):\n",
    "    addcol(i,j)"
   ]
  },
  {
   "cell_type": "code",
   "execution_count": null,
   "metadata": {},
   "outputs": [],
   "source": [
    "df_list = [rice,maize,jute,mango,papaya,banana]"
   ]
  },
  {
   "cell_type": "code",
   "execution_count": 100,
   "metadata": {},
   "outputs": [],
   "source": [
    "rice = rice[['State','Area','Production']]\n",
    "maize = maize[['State','Area','Production']]\n",
    "jute = jute[['State','Area','Production']]\n",
    "mango = mango[['State','Area','Production']]\n",
    "papaya = papaya[['State','Area','Production']]\n",
    "banana = banana[['State','Area','Production']]"
   ]
  },
  {
   "cell_type": "code",
   "execution_count": 109,
   "metadata": {},
   "outputs": [],
   "source": [
    "rice_chart = rice.to_dict(orient='records')\n",
    "maize_chart = maize.to_dict(orient='records')\n",
    "jute_chart = jute.to_dict(orient='records')\n",
    "mango_chart = mango.to_dict(orient='records')\n",
    "papaya_chart = papaya.to_dict(orient='records')\n",
    "banana_chart = banana.to_dict(orient='records')"
   ]
  },
  {
   "cell_type": "code",
   "execution_count": 111,
   "metadata": {},
   "outputs": [],
   "source": [
    "def writejson(file_name,chart_data):\n",
    "    json_ob = json.dumps(chart_data,indent=2)\n",
    "    with open(file_name,\"w\") as outfile:\n",
    "        outfile.write(json_ob)"
   ]
  },
  {
   "cell_type": "code",
   "execution_count": 113,
   "metadata": {},
   "outputs": [],
   "source": [
    "file_list = ['rice.json','maize.json','jute.json','mango.json','papaya.json','banana.json']\n",
    "dict_list = [rice_chart,maize_chart,jute_chart,mango_chart,papaya_chart,banana_chart]\n",
    "for i,j in zip(file_list,dict_list):\n",
    "    writejson(i,j)"
   ]
  },
  {
   "cell_type": "code",
   "execution_count": null,
   "metadata": {},
   "outputs": [],
   "source": []
  }
 ],
 "metadata": {
  "kernelspec": {
   "display_name": "Python 3",
   "language": "python",
   "name": "python3"
  },
  "language_info": {
   "codemirror_mode": {
    "name": "ipython",
    "version": 3
   },
   "file_extension": ".py",
   "mimetype": "text/x-python",
   "name": "python",
   "nbconvert_exporter": "python",
   "pygments_lexer": "ipython3",
   "version": "3.7.7"
  }
 },
 "nbformat": 4,
 "nbformat_minor": 5
}
